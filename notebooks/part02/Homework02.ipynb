{
 "cells": [
  {
   "cell_type": "code",
   "execution_count": 1,
   "id": "4009c937",
   "metadata": {
    "ExecuteTime": {
     "end_time": "2021-09-16T14:17:19.348892Z",
     "start_time": "2021-09-16T14:17:18.308850Z"
    }
   },
   "outputs": [],
   "source": [
    "import pandas as pd\n",
    "import numpy as np\n",
    "\n",
    "import seaborn as sns\n",
    "from matplotlib import pyplot as plt\n",
    "%matplotlib inline"
   ]
  },
  {
   "cell_type": "code",
   "execution_count": 2,
   "id": "0a4caeaf",
   "metadata": {
    "ExecuteTime": {
     "end_time": "2021-09-16T14:17:19.491803Z",
     "start_time": "2021-09-16T14:17:19.350768Z"
    }
   },
   "outputs": [
    {
     "data": {
      "text/plain": [
       "48895"
      ]
     },
     "execution_count": 2,
     "metadata": {},
     "output_type": "execute_result"
    }
   ],
   "source": [
    "df = pd.read_csv('../data/AB_NYC_2019.csv')\n",
    "len(df)"
   ]
  },
  {
   "cell_type": "code",
   "execution_count": 3,
   "id": "a32f7049",
   "metadata": {
    "ExecuteTime": {
     "end_time": "2021-09-16T14:17:19.507769Z",
     "start_time": "2021-09-16T14:17:19.492768Z"
    }
   },
   "outputs": [],
   "source": [
    "homework_cols = ['latitude','longitude','price','minimum_nights','number_of_reviews','reviews_per_month',\n",
    "'calculated_host_listings_count','availability_365']\n",
    "df = df[homework_cols]"
   ]
  },
  {
   "cell_type": "code",
   "execution_count": 4,
   "id": "bfbdf8a9",
   "metadata": {
    "ExecuteTime": {
     "end_time": "2021-09-16T14:17:19.523834Z",
     "start_time": "2021-09-16T14:17:19.510770Z"
    }
   },
   "outputs": [
    {
     "data": {
      "text/plain": [
       "(48895, 8)"
      ]
     },
     "execution_count": 4,
     "metadata": {},
     "output_type": "execute_result"
    }
   ],
   "source": [
    "df.shape"
   ]
  },
  {
   "cell_type": "markdown",
   "id": "feb2b01c",
   "metadata": {},
   "source": [
    "# Q1"
   ]
  },
  {
   "cell_type": "markdown",
   "id": "b3f0b212",
   "metadata": {},
   "source": [
    "Find a feature with missing values. How many missing values does it have?"
   ]
  },
  {
   "cell_type": "code",
   "execution_count": 5,
   "id": "32c8804c",
   "metadata": {
    "ExecuteTime": {
     "end_time": "2021-09-16T14:17:19.539118Z",
     "start_time": "2021-09-16T14:17:19.524768Z"
    }
   },
   "outputs": [
    {
     "data": {
      "text/plain": [
       "latitude                              0\n",
       "longitude                             0\n",
       "price                                 0\n",
       "minimum_nights                        0\n",
       "number_of_reviews                     0\n",
       "reviews_per_month                 10052\n",
       "calculated_host_listings_count        0\n",
       "availability_365                      0\n",
       "dtype: int64"
      ]
     },
     "execution_count": 5,
     "metadata": {},
     "output_type": "execute_result"
    }
   ],
   "source": [
    "df.isna().sum()"
   ]
  },
  {
   "cell_type": "code",
   "execution_count": 6,
   "id": "7530f39f",
   "metadata": {
    "ExecuteTime": {
     "end_time": "2021-09-16T14:17:19.555119Z",
     "start_time": "2021-09-16T14:17:19.540118Z"
    }
   },
   "outputs": [
    {
     "name": "stdout",
     "output_type": "stream",
     "text": [
      "<class 'pandas.core.frame.DataFrame'>\n",
      "RangeIndex: 48895 entries, 0 to 48894\n",
      "Data columns (total 8 columns):\n",
      " #   Column                          Non-Null Count  Dtype  \n",
      "---  ------                          --------------  -----  \n",
      " 0   latitude                        48895 non-null  float64\n",
      " 1   longitude                       48895 non-null  float64\n",
      " 2   price                           48895 non-null  int64  \n",
      " 3   minimum_nights                  48895 non-null  int64  \n",
      " 4   number_of_reviews               48895 non-null  int64  \n",
      " 5   reviews_per_month               38843 non-null  float64\n",
      " 6   calculated_host_listings_count  48895 non-null  int64  \n",
      " 7   availability_365                48895 non-null  int64  \n",
      "dtypes: float64(3), int64(5)\n",
      "memory usage: 3.0 MB\n"
     ]
    }
   ],
   "source": [
    "df.info()"
   ]
  },
  {
   "cell_type": "markdown",
   "id": "9589e020",
   "metadata": {},
   "source": [
    "# Q2"
   ]
  },
  {
   "cell_type": "markdown",
   "id": "2f457770",
   "metadata": {},
   "source": [
    "What's the median (50% percentile) for variable 'minimum_nights'?"
   ]
  },
  {
   "cell_type": "code",
   "execution_count": 7,
   "id": "d5504a20",
   "metadata": {
    "ExecuteTime": {
     "end_time": "2021-09-16T14:17:19.571118Z",
     "start_time": "2021-09-16T14:17:19.556118Z"
    }
   },
   "outputs": [
    {
     "data": {
      "text/plain": [
       "3.0"
      ]
     },
     "execution_count": 7,
     "metadata": {},
     "output_type": "execute_result"
    }
   ],
   "source": [
    "df['minimum_nights'].median()"
   ]
  },
  {
   "cell_type": "markdown",
   "id": "71b27b0f",
   "metadata": {},
   "source": [
    "- Shuffle the initial dataset, use seed 42.\n",
    "- Split your data in train/val/test sets, with 60%/20%/20% distribution.\n",
    "- Make sure that the target value ('price') is not in your dataframe.\n",
    "- Apply the log transformation to the price variable using the np.log1p() function."
   ]
  },
  {
   "cell_type": "code",
   "execution_count": 8,
   "id": "4df82bf5",
   "metadata": {
    "ExecuteTime": {
     "end_time": "2021-09-16T14:17:19.587207Z",
     "start_time": "2021-09-16T14:17:19.573154Z"
    }
   },
   "outputs": [],
   "source": [
    "np.random.seed(42)\n",
    "\n",
    "n = len(df)\n",
    "\n",
    "n_val = int(0.2 * n)\n",
    "n_test = int(0.2 * n)\n",
    "n_train = n - (n_val + n_test)\n",
    "\n",
    "idx = np.arange(n)\n",
    "np.random.shuffle(idx)\n",
    "\n",
    "df_shuffled = df.iloc[idx]\n",
    "\n",
    "df_train = df_shuffled.iloc[:n_train].copy()\n",
    "df_val = df_shuffled.iloc[n_train:n_train+n_val].copy()\n",
    "df_test = df_shuffled.iloc[n_train+n_val:].copy()"
   ]
  },
  {
   "cell_type": "code",
   "execution_count": 9,
   "id": "101b2257",
   "metadata": {
    "ExecuteTime": {
     "end_time": "2021-09-16T14:17:19.603117Z",
     "start_time": "2021-09-16T14:17:19.588118Z"
    }
   },
   "outputs": [],
   "source": [
    "y_train_orig = df_train.price.values\n",
    "y_val_orig = df_val.price.values\n",
    "y_test_orig = df_test.price.values\n",
    "\n",
    "y_train = np.log1p(df_train.price.values)\n",
    "y_val = np.log1p(df_val.price.values)\n",
    "y_test = np.log1p(df_test.price.values)\n",
    "\n",
    "del df_train['price']\n",
    "del df_val['price']\n",
    "del df_test['price']"
   ]
  },
  {
   "cell_type": "markdown",
   "id": "5dd16ce9",
   "metadata": {},
   "source": [
    "# Q3"
   ]
  },
  {
   "cell_type": "markdown",
   "id": "ac9d20e9",
   "metadata": {},
   "source": [
    "- We need to deal with missing values for the column from Q1.\n",
    "- We have two options: fill it with 0 or with the mean of this variable.\n",
    "- Try both options. For each, train a linear regression model without regularization using the code from the lesssons.\n",
    "- For computing the mean, use the training only!\n",
    "- Use the validation dataset to evaluate the models and compare the RMSE of each option.\n",
    "- Round the RMSE scores to 2 decimal digits using round(score, 2)\n",
    "- Which option gives better RMSE?"
   ]
  },
  {
   "cell_type": "code",
   "execution_count": 10,
   "id": "3e774fab",
   "metadata": {
    "ExecuteTime": {
     "end_time": "2021-09-16T14:17:19.619149Z",
     "start_time": "2021-09-16T14:17:19.606118Z"
    }
   },
   "outputs": [
    {
     "name": "stdout",
     "output_type": "stream",
     "text": [
      "<class 'pandas.core.frame.DataFrame'>\n",
      "Int64Index: 29337 entries, 879 to 29114\n",
      "Data columns (total 7 columns):\n",
      " #   Column                          Non-Null Count  Dtype  \n",
      "---  ------                          --------------  -----  \n",
      " 0   latitude                        29337 non-null  float64\n",
      " 1   longitude                       29337 non-null  float64\n",
      " 2   minimum_nights                  29337 non-null  int64  \n",
      " 3   number_of_reviews               29337 non-null  int64  \n",
      " 4   reviews_per_month               23339 non-null  float64\n",
      " 5   calculated_host_listings_count  29337 non-null  int64  \n",
      " 6   availability_365                29337 non-null  int64  \n",
      "dtypes: float64(3), int64(4)\n",
      "memory usage: 1.8 MB\n"
     ]
    }
   ],
   "source": [
    "df_train.info()"
   ]
  },
  {
   "cell_type": "code",
   "execution_count": 11,
   "id": "79f0d0c8",
   "metadata": {
    "ExecuteTime": {
     "end_time": "2021-09-16T14:17:19.635234Z",
     "start_time": "2021-09-16T14:17:19.621121Z"
    }
   },
   "outputs": [],
   "source": [
    "def train_linear_regression(X, y):\n",
    "    ones = np.ones(X.shape[0])\n",
    "    X = np.column_stack([ones, X])\n",
    "\n",
    "    XTX = X.T.dot(X)\n",
    "    XTX_inv = np.linalg.inv(XTX)\n",
    "    w = XTX_inv.dot(X.T).dot(y)\n",
    "    \n",
    "    return w[0], w[1:]"
   ]
  },
  {
   "cell_type": "code",
   "execution_count": 12,
   "id": "4a2bd58c",
   "metadata": {
    "ExecuteTime": {
     "end_time": "2021-09-16T14:17:19.651149Z",
     "start_time": "2021-09-16T14:17:19.636118Z"
    }
   },
   "outputs": [],
   "source": [
    "def rmse(y, y_pred):\n",
    "    error = y_pred - y\n",
    "    mse = (error ** 2).mean()\n",
    "    return np.sqrt(mse)"
   ]
  },
  {
   "cell_type": "code",
   "execution_count": 13,
   "id": "b0380770",
   "metadata": {
    "ExecuteTime": {
     "end_time": "2021-09-16T14:17:19.667152Z",
     "start_time": "2021-09-16T14:17:19.653136Z"
    }
   },
   "outputs": [
    {
     "data": {
      "text/plain": [
       "1.3685492094776983"
      ]
     },
     "execution_count": 13,
     "metadata": {},
     "output_type": "execute_result"
    }
   ],
   "source": [
    "reviews_per_month_mean = df_train['reviews_per_month'].mean()\n",
    "reviews_per_month_mean"
   ]
  },
  {
   "cell_type": "code",
   "execution_count": 14,
   "id": "861b3870",
   "metadata": {
    "ExecuteTime": {
     "end_time": "2021-09-16T14:17:19.683164Z",
     "start_time": "2021-09-16T14:17:19.668118Z"
    }
   },
   "outputs": [
    {
     "data": {
      "text/html": [
       "<div>\n",
       "<style scoped>\n",
       "    .dataframe tbody tr th:only-of-type {\n",
       "        vertical-align: middle;\n",
       "    }\n",
       "\n",
       "    .dataframe tbody tr th {\n",
       "        vertical-align: top;\n",
       "    }\n",
       "\n",
       "    .dataframe thead th {\n",
       "        text-align: right;\n",
       "    }\n",
       "</style>\n",
       "<table border=\"1\" class=\"dataframe\">\n",
       "  <thead>\n",
       "    <tr style=\"text-align: right;\">\n",
       "      <th></th>\n",
       "      <th>latitude</th>\n",
       "      <th>longitude</th>\n",
       "      <th>minimum_nights</th>\n",
       "      <th>number_of_reviews</th>\n",
       "      <th>reviews_per_month</th>\n",
       "      <th>calculated_host_listings_count</th>\n",
       "      <th>availability_365</th>\n",
       "    </tr>\n",
       "  </thead>\n",
       "  <tbody>\n",
       "    <tr>\n",
       "      <th>879</th>\n",
       "      <td>40.64354</td>\n",
       "      <td>-73.97777</td>\n",
       "      <td>3</td>\n",
       "      <td>62</td>\n",
       "      <td>0.71</td>\n",
       "      <td>1</td>\n",
       "      <td>189</td>\n",
       "    </tr>\n",
       "    <tr>\n",
       "      <th>44383</th>\n",
       "      <td>40.70666</td>\n",
       "      <td>-73.90779</td>\n",
       "      <td>21</td>\n",
       "      <td>0</td>\n",
       "      <td>NaN</td>\n",
       "      <td>1</td>\n",
       "      <td>73</td>\n",
       "    </tr>\n",
       "    <tr>\n",
       "      <th>15394</th>\n",
       "      <td>40.76116</td>\n",
       "      <td>-73.99016</td>\n",
       "      <td>2</td>\n",
       "      <td>17</td>\n",
       "      <td>0.43</td>\n",
       "      <td>1</td>\n",
       "      <td>0</td>\n",
       "    </tr>\n",
       "    <tr>\n",
       "      <th>43230</th>\n",
       "      <td>40.70763</td>\n",
       "      <td>-74.01050</td>\n",
       "      <td>2</td>\n",
       "      <td>5</td>\n",
       "      <td>1.88</td>\n",
       "      <td>327</td>\n",
       "      <td>272</td>\n",
       "    </tr>\n",
       "    <tr>\n",
       "      <th>16332</th>\n",
       "      <td>40.79658</td>\n",
       "      <td>-73.93287</td>\n",
       "      <td>2</td>\n",
       "      <td>30</td>\n",
       "      <td>0.80</td>\n",
       "      <td>1</td>\n",
       "      <td>30</td>\n",
       "    </tr>\n",
       "  </tbody>\n",
       "</table>\n",
       "</div>"
      ],
      "text/plain": [
       "       latitude  longitude  minimum_nights  number_of_reviews  \\\n",
       "879    40.64354  -73.97777               3                 62   \n",
       "44383  40.70666  -73.90779              21                  0   \n",
       "15394  40.76116  -73.99016               2                 17   \n",
       "43230  40.70763  -74.01050               2                  5   \n",
       "16332  40.79658  -73.93287               2                 30   \n",
       "\n",
       "       reviews_per_month  calculated_host_listings_count  availability_365  \n",
       "879                 0.71                               1               189  \n",
       "44383                NaN                               1                73  \n",
       "15394               0.43                               1                 0  \n",
       "43230               1.88                             327               272  \n",
       "16332               0.80                               1                30  "
      ]
     },
     "execution_count": 14,
     "metadata": {},
     "output_type": "execute_result"
    }
   ],
   "source": [
    "df_train.head()"
   ]
  },
  {
   "cell_type": "code",
   "execution_count": 15,
   "id": "f0c54fbe",
   "metadata": {
    "ExecuteTime": {
     "end_time": "2021-09-16T14:17:19.699117Z",
     "start_time": "2021-09-16T14:17:19.684117Z"
    }
   },
   "outputs": [
    {
     "data": {
      "text/html": [
       "<div>\n",
       "<style scoped>\n",
       "    .dataframe tbody tr th:only-of-type {\n",
       "        vertical-align: middle;\n",
       "    }\n",
       "\n",
       "    .dataframe tbody tr th {\n",
       "        vertical-align: top;\n",
       "    }\n",
       "\n",
       "    .dataframe thead th {\n",
       "        text-align: right;\n",
       "    }\n",
       "</style>\n",
       "<table border=\"1\" class=\"dataframe\">\n",
       "  <thead>\n",
       "    <tr style=\"text-align: right;\">\n",
       "      <th></th>\n",
       "      <th>latitude</th>\n",
       "      <th>longitude</th>\n",
       "      <th>minimum_nights</th>\n",
       "      <th>number_of_reviews</th>\n",
       "      <th>reviews_per_month</th>\n",
       "      <th>calculated_host_listings_count</th>\n",
       "      <th>availability_365</th>\n",
       "    </tr>\n",
       "  </thead>\n",
       "  <tbody>\n",
       "    <tr>\n",
       "      <th>879</th>\n",
       "      <td>40.64354</td>\n",
       "      <td>-73.97777</td>\n",
       "      <td>3</td>\n",
       "      <td>62</td>\n",
       "      <td>0.71</td>\n",
       "      <td>1</td>\n",
       "      <td>189</td>\n",
       "    </tr>\n",
       "    <tr>\n",
       "      <th>44383</th>\n",
       "      <td>40.70666</td>\n",
       "      <td>-73.90779</td>\n",
       "      <td>21</td>\n",
       "      <td>0</td>\n",
       "      <td>0.00</td>\n",
       "      <td>1</td>\n",
       "      <td>73</td>\n",
       "    </tr>\n",
       "    <tr>\n",
       "      <th>15394</th>\n",
       "      <td>40.76116</td>\n",
       "      <td>-73.99016</td>\n",
       "      <td>2</td>\n",
       "      <td>17</td>\n",
       "      <td>0.43</td>\n",
       "      <td>1</td>\n",
       "      <td>0</td>\n",
       "    </tr>\n",
       "    <tr>\n",
       "      <th>43230</th>\n",
       "      <td>40.70763</td>\n",
       "      <td>-74.01050</td>\n",
       "      <td>2</td>\n",
       "      <td>5</td>\n",
       "      <td>1.88</td>\n",
       "      <td>327</td>\n",
       "      <td>272</td>\n",
       "    </tr>\n",
       "    <tr>\n",
       "      <th>16332</th>\n",
       "      <td>40.79658</td>\n",
       "      <td>-73.93287</td>\n",
       "      <td>2</td>\n",
       "      <td>30</td>\n",
       "      <td>0.80</td>\n",
       "      <td>1</td>\n",
       "      <td>30</td>\n",
       "    </tr>\n",
       "  </tbody>\n",
       "</table>\n",
       "</div>"
      ],
      "text/plain": [
       "       latitude  longitude  minimum_nights  number_of_reviews  \\\n",
       "879    40.64354  -73.97777               3                 62   \n",
       "44383  40.70666  -73.90779              21                  0   \n",
       "15394  40.76116  -73.99016               2                 17   \n",
       "43230  40.70763  -74.01050               2                  5   \n",
       "16332  40.79658  -73.93287               2                 30   \n",
       "\n",
       "       reviews_per_month  calculated_host_listings_count  availability_365  \n",
       "879                 0.71                               1               189  \n",
       "44383               0.00                               1                73  \n",
       "15394               0.43                               1                 0  \n",
       "43230               1.88                             327               272  \n",
       "16332               0.80                               1                30  "
      ]
     },
     "execution_count": 15,
     "metadata": {},
     "output_type": "execute_result"
    }
   ],
   "source": [
    "df_train.fillna({'reviews_per_month':0}).head()"
   ]
  },
  {
   "cell_type": "code",
   "execution_count": 16,
   "id": "d67ca09c",
   "metadata": {
    "ExecuteTime": {
     "end_time": "2021-09-16T14:17:19.715213Z",
     "start_time": "2021-09-16T14:17:19.700118Z"
    }
   },
   "outputs": [
    {
     "data": {
      "text/html": [
       "<div>\n",
       "<style scoped>\n",
       "    .dataframe tbody tr th:only-of-type {\n",
       "        vertical-align: middle;\n",
       "    }\n",
       "\n",
       "    .dataframe tbody tr th {\n",
       "        vertical-align: top;\n",
       "    }\n",
       "\n",
       "    .dataframe thead th {\n",
       "        text-align: right;\n",
       "    }\n",
       "</style>\n",
       "<table border=\"1\" class=\"dataframe\">\n",
       "  <thead>\n",
       "    <tr style=\"text-align: right;\">\n",
       "      <th></th>\n",
       "      <th>latitude</th>\n",
       "      <th>longitude</th>\n",
       "      <th>minimum_nights</th>\n",
       "      <th>number_of_reviews</th>\n",
       "      <th>reviews_per_month</th>\n",
       "      <th>calculated_host_listings_count</th>\n",
       "      <th>availability_365</th>\n",
       "    </tr>\n",
       "  </thead>\n",
       "  <tbody>\n",
       "    <tr>\n",
       "      <th>879</th>\n",
       "      <td>40.64354</td>\n",
       "      <td>-73.97777</td>\n",
       "      <td>3</td>\n",
       "      <td>62</td>\n",
       "      <td>0.710000</td>\n",
       "      <td>1</td>\n",
       "      <td>189</td>\n",
       "    </tr>\n",
       "    <tr>\n",
       "      <th>44383</th>\n",
       "      <td>40.70666</td>\n",
       "      <td>-73.90779</td>\n",
       "      <td>21</td>\n",
       "      <td>0</td>\n",
       "      <td>1.368549</td>\n",
       "      <td>1</td>\n",
       "      <td>73</td>\n",
       "    </tr>\n",
       "    <tr>\n",
       "      <th>15394</th>\n",
       "      <td>40.76116</td>\n",
       "      <td>-73.99016</td>\n",
       "      <td>2</td>\n",
       "      <td>17</td>\n",
       "      <td>0.430000</td>\n",
       "      <td>1</td>\n",
       "      <td>0</td>\n",
       "    </tr>\n",
       "    <tr>\n",
       "      <th>43230</th>\n",
       "      <td>40.70763</td>\n",
       "      <td>-74.01050</td>\n",
       "      <td>2</td>\n",
       "      <td>5</td>\n",
       "      <td>1.880000</td>\n",
       "      <td>327</td>\n",
       "      <td>272</td>\n",
       "    </tr>\n",
       "    <tr>\n",
       "      <th>16332</th>\n",
       "      <td>40.79658</td>\n",
       "      <td>-73.93287</td>\n",
       "      <td>2</td>\n",
       "      <td>30</td>\n",
       "      <td>0.800000</td>\n",
       "      <td>1</td>\n",
       "      <td>30</td>\n",
       "    </tr>\n",
       "  </tbody>\n",
       "</table>\n",
       "</div>"
      ],
      "text/plain": [
       "       latitude  longitude  minimum_nights  number_of_reviews  \\\n",
       "879    40.64354  -73.97777               3                 62   \n",
       "44383  40.70666  -73.90779              21                  0   \n",
       "15394  40.76116  -73.99016               2                 17   \n",
       "43230  40.70763  -74.01050               2                  5   \n",
       "16332  40.79658  -73.93287               2                 30   \n",
       "\n",
       "       reviews_per_month  calculated_host_listings_count  availability_365  \n",
       "879             0.710000                               1               189  \n",
       "44383           1.368549                               1                73  \n",
       "15394           0.430000                               1                 0  \n",
       "43230           1.880000                             327               272  \n",
       "16332           0.800000                               1                30  "
      ]
     },
     "execution_count": 16,
     "metadata": {},
     "output_type": "execute_result"
    }
   ],
   "source": [
    "df_train.fillna({'reviews_per_month':reviews_per_month_mean}).head()"
   ]
  },
  {
   "cell_type": "code",
   "execution_count": 17,
   "id": "1b0dc249",
   "metadata": {
    "ExecuteTime": {
     "end_time": "2021-09-16T14:17:19.746308Z",
     "start_time": "2021-09-16T14:17:19.717259Z"
    }
   },
   "outputs": [],
   "source": [
    "X_train_mean = df_train.fillna({'reviews_per_month':reviews_per_month_mean})\n",
    "X_train_zero = df_train.fillna({'reviews_per_month':0})\n",
    "w_0_mean, w_mean = train_linear_regression(X_train_mean, y_train)\n",
    "w_0_zero, w_zero = train_linear_regression(X_train_zero, y_train)"
   ]
  },
  {
   "cell_type": "code",
   "execution_count": 18,
   "id": "26bf6e5f",
   "metadata": {
    "ExecuteTime": {
     "end_time": "2021-09-16T14:17:19.762260Z",
     "start_time": "2021-09-16T14:17:19.748270Z"
    }
   },
   "outputs": [],
   "source": [
    "X_val_mean = df_val.fillna({'reviews_per_month':reviews_per_month_mean})\n",
    "X_val_zero = df_val.fillna({'reviews_per_month':0})\n",
    "y_pred_mean = w_0_mean + X_val_mean.dot(w_mean)\n",
    "y_pred_zero = w_0_zero + X_val_mean.dot(w_zero)"
   ]
  },
  {
   "cell_type": "code",
   "execution_count": 19,
   "id": "dc655078",
   "metadata": {
    "ExecuteTime": {
     "end_time": "2021-09-16T14:17:19.778258Z",
     "start_time": "2021-09-16T14:17:19.763261Z"
    }
   },
   "outputs": [
    {
     "name": "stdout",
     "output_type": "stream",
     "text": [
      "rmse_mean: 0.64\n",
      "rmse_zero: 0.64\n"
     ]
    }
   ],
   "source": [
    "rmse_mean = rmse(y_val, y_pred_mean)\n",
    "rmse_zero = rmse(y_val, y_pred_zero)\n",
    "print(\"rmse_mean:\",round(rmse_mean,2))\n",
    "print(\"rmse_zero:\",round(rmse_zero,2))"
   ]
  },
  {
   "cell_type": "code",
   "execution_count": 20,
   "id": "accaa789",
   "metadata": {
    "ExecuteTime": {
     "end_time": "2021-09-16T14:17:19.793264Z",
     "start_time": "2021-09-16T14:17:19.779288Z"
    }
   },
   "outputs": [
    {
     "name": "stdout",
     "output_type": "stream",
     "text": [
      "[4.56404917 4.47586466 4.72706726 5.06651567 3.72361944 4.92676964\n",
      " 5.06439302 4.56156357 5.12961035 4.71497667]\n",
      "[4.57853271 4.48375564 4.73586366 5.06898417 3.74125331 4.91527899\n",
      " 5.07459426 4.57846823 5.13605295 4.70475063]\n"
     ]
    }
   ],
   "source": [
    "print(y_pred_mean[:10].values)\n",
    "print(y_pred_zero[:10].values)"
   ]
  },
  {
   "cell_type": "markdown",
   "id": "56edb111",
   "metadata": {},
   "source": [
    "Answer: similar"
   ]
  },
  {
   "cell_type": "markdown",
   "id": "9257b070",
   "metadata": {},
   "source": [
    "# Q4"
   ]
  },
  {
   "cell_type": "markdown",
   "id": "0d94b519",
   "metadata": {},
   "source": [
    "- Now let's train a regularized linear regression.\n",
    "- For this question, fill the NAs with 0.\n",
    "- Try different values of r from this list: [0, 0.000001, 0.0001, 0.001, 0.01, 0.1, 1, 5, 10].\n",
    "- Use RMSE to evaluate the model on the validation dataset.\n",
    "- Round the RMSE scores to 2 decimal digits.\n",
    "- Which r gives the best RMSE?"
   ]
  },
  {
   "cell_type": "code",
   "execution_count": 21,
   "id": "9b8868ba",
   "metadata": {
    "ExecuteTime": {
     "end_time": "2021-09-16T14:17:19.809261Z",
     "start_time": "2021-09-16T14:17:19.797291Z"
    }
   },
   "outputs": [],
   "source": [
    "def train_linear_regression_reg(X, y, r=0.0):\n",
    "    ones = np.ones(X.shape[0])\n",
    "    X = np.column_stack([ones, X])\n",
    "\n",
    "    XTX = X.T.dot(X)\n",
    "    reg = r * np.eye(XTX.shape[0])\n",
    "    XTX = XTX + reg\n",
    "\n",
    "    XTX_inv = np.linalg.inv(XTX)\n",
    "    w = XTX_inv.dot(X.T).dot(y)\n",
    "    \n",
    "    return w[0], w[1:]"
   ]
  },
  {
   "cell_type": "code",
   "execution_count": 22,
   "id": "5fa18706",
   "metadata": {
    "ExecuteTime": {
     "end_time": "2021-09-16T14:17:19.872331Z",
     "start_time": "2021-09-16T14:17:19.810288Z"
    }
   },
   "outputs": [
    {
     "name": "stdout",
     "output_type": "stream",
     "text": [
      "val 0.64\n",
      "val 0.64\n",
      "val 0.64\n",
      "val 0.64\n",
      "val 0.66\n",
      "val 0.68\n",
      "val 0.68\n",
      "val 0.68\n",
      "val 0.68\n"
     ]
    }
   ],
   "source": [
    "for r in [0, 0.000001, 0.0001, 0.001, 0.01, 0.1, 1, 5, 10]:\n",
    "    w_0, w = train_linear_regression_reg(X_train_zero, y_train, r=r)\n",
    "\n",
    "    y_pred = w_0 + X_val_zero.dot(w)\n",
    "    print('val', round(rmse(y_val, y_pred),2))"
   ]
  },
  {
   "cell_type": "markdown",
   "id": "d1685c80",
   "metadata": {},
   "source": [
    "Answer is 0"
   ]
  },
  {
   "cell_type": "markdown",
   "id": "d926fcd9",
   "metadata": {},
   "source": [
    "# Q5"
   ]
  },
  {
   "cell_type": "markdown",
   "id": "6e79b817",
   "metadata": {},
   "source": [
    "- We used seed 42 for splitting the data. Let's find out how selecting the seed influences our score.\n",
    "- Try different seed values: [0, 1, 2, 3, 4, 5, 6, 7, 8, 9].\n",
    "- For each seed, do the train/validation/test split with 60%/20%/20% distribution.\n",
    "- Fill the missing values with 0 and train a model without regularization.\n",
    "- For each seed, evaluate the model on the validation dataset and collect the RMSE scores.\n",
    "- What's the standard deviation of all the scores? To compute the standard deviation, use np.std.\n",
    "- Round the result to 3 decimal digits (round(std, 3))"
   ]
  },
  {
   "cell_type": "code",
   "execution_count": 23,
   "id": "47678169",
   "metadata": {
    "ExecuteTime": {
     "end_time": "2021-09-16T14:17:20.030317Z",
     "start_time": "2021-09-16T14:17:19.878263Z"
    }
   },
   "outputs": [
    {
     "name": "stdout",
     "output_type": "stream",
     "text": [
      "seed: 0 rmse: 0.654977996098256\n",
      "seed: 1 rmse: 0.6462523685596203\n",
      "seed: 2 rmse: 0.6476558176507924\n",
      "seed: 3 rmse: 0.6375145070225107\n",
      "seed: 4 rmse: 0.6445809083240496\n",
      "seed: 5 rmse: 0.6305809996021178\n",
      "seed: 6 rmse: 0.6297851916035567\n",
      "seed: 7 rmse: 0.650618426693912\n",
      "seed: 8 rmse: 0.6489780353511724\n",
      "seed: 9 rmse: 0.6437565168320449\n",
      "std: 0.008\n"
     ]
    }
   ],
   "source": [
    "rmses = []\n",
    "for seed in [0, 1, 2, 3, 4, 5, 6, 7, 8, 9]:\n",
    "    np.random.seed(seed)\n",
    "    n = len(df)\n",
    "\n",
    "    n_val = int(0.2 * n)\n",
    "    n_test = int(0.2 * n)\n",
    "    n_train = n - (n_val + n_test)\n",
    "\n",
    "    idx = np.arange(n)\n",
    "    np.random.shuffle(idx)\n",
    "\n",
    "    df_shuffled = df.iloc[idx]\n",
    "\n",
    "    df_train = df_shuffled.iloc[:n_train].copy()\n",
    "    df_val = df_shuffled.iloc[n_train:n_train+n_val].copy()\n",
    "    df_test = df_shuffled.iloc[n_train+n_val:].copy()\n",
    "    y_train_orig = df_train.price.values\n",
    "    y_val_orig = df_val.price.values\n",
    "    y_test_orig = df_test.price.values\n",
    "\n",
    "    y_train = np.log1p(df_train.price.values)\n",
    "    y_val = np.log1p(df_val.price.values)\n",
    "    y_test = np.log1p(df_test.price.values)\n",
    "\n",
    "    del df_train['price']\n",
    "    del df_val['price']\n",
    "    del df_test['price']\n",
    "    X_train_zero = df_train.fillna({'reviews_per_month':0})\n",
    "    w_0_zero, w_zero = train_linear_regression(X_train_zero, y_train)\n",
    "    X_val_zero = df_val.fillna({'reviews_per_month':0})\n",
    "    y_pred_zero = w_0_zero + X_val_zero.dot(w_zero)\n",
    "    rmse_zero = rmse(y_val, y_pred_zero)\n",
    "    print(\"seed:\", seed, \"rmse:\",rmse_zero)\n",
    "    rmses.append(rmse_zero)\n",
    "#print(rmses)\n",
    "print(\"std:\", round(np.std(rmses),3))"
   ]
  },
  {
   "cell_type": "markdown",
   "id": "8ba0d027",
   "metadata": {},
   "source": [
    "# Q6"
   ]
  },
  {
   "cell_type": "markdown",
   "id": "63ca114a",
   "metadata": {},
   "source": [
    "- Split the dataset like previously, use seed 9.\n",
    "- Combine train and validation datasets.\n",
    "- Train a model with r=0.001.\n",
    "- What's the RMSE on the test dataset?"
   ]
  },
  {
   "cell_type": "code",
   "execution_count": 25,
   "id": "de0ab570",
   "metadata": {
    "ExecuteTime": {
     "end_time": "2021-09-16T14:17:34.923475Z",
     "start_time": "2021-09-16T14:17:34.881579Z"
    }
   },
   "outputs": [
    {
     "name": "stdout",
     "output_type": "stream",
     "text": [
      "seed: 9 rmse: 0.6452771348364293\n"
     ]
    }
   ],
   "source": [
    "np.random.seed(9)\n",
    "n = len(df)\n",
    "\n",
    "n_val = int(0.2 * n)\n",
    "n_test = int(0.2 * n)\n",
    "n_train = n - (n_val + n_test)\n",
    "\n",
    "idx = np.arange(n)\n",
    "np.random.shuffle(idx)\n",
    "\n",
    "df_shuffled = df.iloc[idx]\n",
    "\n",
    "df_train = df_shuffled.iloc[:n_train].copy()\n",
    "df_val = df_shuffled.iloc[n_train:n_train+n_val].copy()\n",
    "df_test = df_shuffled.iloc[n_train+n_val:].copy()\n",
    "df_trainval = df_shuffled.iloc[:n_train+n_val].copy()\n",
    "\n",
    "y_train_orig = df_train.price.values\n",
    "y_val_orig = df_val.price.values\n",
    "y_test_orig = df_test.price.values\n",
    "y_trainval_orig = df_trainval.price.values\n",
    "\n",
    "y_train = np.log1p(df_train.price.values)\n",
    "y_val = np.log1p(df_val.price.values)\n",
    "y_test = np.log1p(df_test.price.values)\n",
    "y_trainval = np.log1p(df_trainval.price.values)\n",
    "\n",
    "del df_train['price']\n",
    "del df_val['price']\n",
    "del df_test['price']\n",
    "del df_trainval['price']\n",
    "\n",
    "X_train_zero = df_trainval.fillna({'reviews_per_month':0})\n",
    "w_0_zero, w_zero = train_linear_regression_reg(X_train_zero, y_trainval, 0.001)\n",
    "\n",
    "X_test_zero = df_test.fillna({'reviews_per_month':0})\n",
    "y_pred_zero = w_0_zero + X_test_zero.dot(w_zero)\n",
    "rmse_zero = rmse(y_test, y_pred_zero)\n",
    "print(\"seed:\", seed, \"rmse:\",rmse_zero)"
   ]
  }
 ],
 "metadata": {
  "kernelspec": {
   "display_name": "mlzoomcamp",
   "language": "python",
   "name": "python3"
  },
  "language_info": {
   "codemirror_mode": {
    "name": "ipython",
    "version": 3
   },
   "file_extension": ".py",
   "mimetype": "text/x-python",
   "name": "python",
   "nbconvert_exporter": "python",
   "pygments_lexer": "ipython3",
   "version": "3.9.7"
  },
  "toc": {
   "base_numbering": 1,
   "nav_menu": {},
   "number_sections": true,
   "sideBar": true,
   "skip_h1_title": false,
   "title_cell": "Table of Contents",
   "title_sidebar": "Contents",
   "toc_cell": false,
   "toc_position": {},
   "toc_section_display": true,
   "toc_window_display": false
  }
 },
 "nbformat": 4,
 "nbformat_minor": 5
}
